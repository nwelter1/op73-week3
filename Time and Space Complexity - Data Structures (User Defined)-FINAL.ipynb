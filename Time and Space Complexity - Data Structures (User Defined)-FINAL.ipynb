{
 "cells": [
  {
   "cell_type": "markdown",
   "metadata": {},
   "source": [
    "# Time/Space Complexity - Intro to Data Structures (User Defined)\n",
    "\n",
    "### Topics to discuss today:\n",
    "\n",
    "<ul>\n",
    "    <li>Time and Space Complexity - What is it/How do we measure it</li>\n",
    "    <li>Asymptotic Analysis</li>\n",
    "    <li><strong>Data Structures</strong></li>\n",
    "</ul>\n",
    "\n",
    "### Data Structures to discuss:\n",
    "- Arrays\n",
    "- Stacks\n",
    "- Queues\n",
    "- Linked Lists\n",
    "    - Singly Linked Lists\n",
    "    - Traversing A Linked List\n",
    "    - Finding a node in a linked list\n",
    "    - Adding to a linked list\n"
   ]
  },
  {
   "cell_type": "markdown",
   "metadata": {},
   "source": [
    "## Time and Space Complexity\n",
    "\n",
    "#### What is it?\n",
    "\n",
    "Time and space complexity is the measure of how much time a given action(function) will take to solve a problem. In the same fashion, we determine how much a given data structure will need in terms of memory allocation. A problem can have multiple solutions and finding the optimal solution for the problem needs to be analyzed in time and space.\n",
    "\n",
    "#### How do we measure Time and Space Complexity?\n",
    "\n",
    "In order to measure time and space complexity we use Asymptotic analysis. The reason for this is because we need a way to measure different algorithms (functions) based on the size of their inputs in a mathmatical way. For example, we could have a function that is computed as f(n) and another that is g(n^2). All things around the function staying constant, the only thing that changes is the size of the input. Below is the chart that shows the different Asymptotic analysis formats. "
   ]
  },
  {
   "cell_type": "markdown",
   "metadata": {},
   "source": [
    "<table style=\"text-align:center;\" class=\"table table-bordered\">\n",
    "<tbody><tr>\n",
    "<td>constant</td>\n",
    "<td>−</td>\n",
    "<td>Ο(1)</td>\n",
    "</tr>\n",
    "<tr>\n",
    "<td>logarithmic</td>\n",
    "<td>−</td>\n",
    "<td>Ο(log n)</td>\n",
    "</tr>\n",
    "<tr>\n",
    "<td>linear</td>\n",
    "<td>−</td>\n",
    "<td>Ο(n)</td>\n",
    "</tr>\n",
    "<tr>\n",
    "<td>Linear Logarithmic</td>\n",
    "<td>−</td>\n",
    "<td>Ο(n log n)</td>\n",
    "</tr>\n",
    "<tr>\n",
    "<td>quadratic</td>\n",
    "<td>−</td>\n",
    "<td>Ο(n<sup>2</sup>)</td>\n",
    "</tr>\n",
    "<tr>\n",
    "<td>cubic</td>\n",
    "<td>−</td>\n",
    "<td>Ο(n<sup>3</sup>)</td>\n",
    "</tr>\n",
    "<tr>\n",
    "<td>polynomial</td>\n",
    "<td>−</td>\n",
    "<td>n<sup>Ο(1)</sup></td>\n",
    "</tr>\n",
    "<tr>\n",
    "<td>exponential</td>\n",
    "<td>−</td>\n",
    "<td>2<sup>Ο(n)</sup></td>\n",
    "</tr>\n",
    "</tbody></table>"
   ]
  },
  {
   "cell_type": "markdown",
   "metadata": {},
   "source": [
    "### Constant Time Example"
   ]
  },
  {
   "cell_type": "code",
   "execution_count": 10,
   "metadata": {},
   "outputs": [
    {
     "name": "stdout",
     "output_type": "stream",
     "text": [
      "6\n",
      "Elapsed Time for this list 0.0004279613494873047\n"
     ]
    }
   ],
   "source": [
    "# Example of Constant Time Function O(1)\n",
    "# The runtime will stay the same regardless of input size\n",
    "import time\n",
    "\n",
    "def constant_algo(items):\n",
    "    result = items[2] * items[3]\n",
    "    return result\n",
    "\n",
    "a_list = [0,1,2,3,4]\n",
    "b_list = list(range(1000000))\n",
    "\n",
    "start_time = time.time()\n",
    "\n",
    "print(constant_algo(b_list))\n",
    "\n",
    "elapsed_time = time.time() - start_time\n",
    "\n",
    "print(f'Elapsed Time for this list {elapsed_time}')"
   ]
  },
  {
   "cell_type": "markdown",
   "metadata": {},
   "source": [
    "### Linear Time Example"
   ]
  },
  {
   "cell_type": "code",
   "execution_count": 27,
   "metadata": {},
   "outputs": [
    {
     "name": "stdout",
     "output_type": "stream",
     "text": [
      "0\n",
      "1\n",
      "2\n",
      "3\n",
      "4\n",
      "Elapsed Time for this list 0.0003790855407714844\n"
     ]
    }
   ],
   "source": [
    "# Example of Linear Time O(n)\n",
    "# This runtime will increase 1:1 as the number of inputs increases\n",
    "def linear_algo(items):\n",
    "    for item in items:\n",
    "        print(item)\n",
    "\n",
    "l_1 = [0,1,2,3,4]\n",
    "l_2 = list(range(50))\n",
    "\n",
    "start_time = time.time()\n",
    "linear_algo(l_1)\n",
    "elapsed_time = time.time() - start_time\n",
    "print(f'Elapsed Time for this list {elapsed_time}')"
   ]
  },
  {
   "cell_type": "markdown",
   "metadata": {},
   "source": [
    "### Quadratic Time Example"
   ]
  },
  {
   "cell_type": "code",
   "execution_count": 37,
   "metadata": {},
   "outputs": [
    {
     "name": "stdout",
     "output_type": "stream",
     "text": [
      "i = 0, j = 0\n",
      "i = 0, j = 1\n",
      "i = 0, j = 2\n",
      "i = 0, j = 3\n",
      "i = 0, j = 4\n",
      "i = 1, j = 0\n",
      "i = 1, j = 1\n",
      "i = 1, j = 2\n",
      "i = 1, j = 3\n",
      "i = 1, j = 4\n",
      "i = 2, j = 0\n",
      "i = 2, j = 1\n",
      "i = 2, j = 2\n",
      "i = 2, j = 3\n",
      "i = 2, j = 4\n",
      "i = 3, j = 0\n",
      "i = 3, j = 1\n",
      "i = 3, j = 2\n",
      "i = 3, j = 3\n",
      "i = 3, j = 4\n",
      "i = 4, j = 0\n",
      "i = 4, j = 1\n",
      "i = 4, j = 2\n",
      "i = 4, j = 3\n",
      "i = 4, j = 4\n",
      "25\n"
     ]
    }
   ],
   "source": [
    "# Example of Quadratic Time: O(n^2)\n",
    "# A function is qudratic if it requires us to complete 2 nested loops\n",
    "# iterating over all items multiple times\n",
    "\n",
    "def quadratic_algo(items):\n",
    "    count = 0\n",
    "    for i in items:\n",
    "        for j in items:\n",
    "            print(f'i = {i}, j = {j}')\n",
    "            count += 1\n",
    "    print(count)\n",
    "            \n",
    "a_list = list(range(5))\n",
    "\n",
    "quadratic_algo(a_list)"
   ]
  },
  {
   "cell_type": "markdown",
   "metadata": {},
   "source": [
    "## Arrays"
   ]
  },
  {
   "cell_type": "markdown",
   "metadata": {},
   "source": [
    "In python we benefit from the dynamic array which means the block of memory will expand as needed for the given input to the array. In traditional arrays (depending on the type of operating system) we will usually store our inputs in 4 or 8 consecutive blocks of memory. Below is a diagram of how that looks under the hood:\n",
    "\n",
    "<img src=\"http://www.mathcs.emory.edu/~cheung/Courses/170/Syllabus/09/FIGS/array02x.gif\" style=\"height:250px; width:350px;\">"
   ]
  },
  {
   "cell_type": "markdown",
   "metadata": {},
   "source": [
    "## Which in python looks like this:"
   ]
  },
  {
   "cell_type": "code",
   "execution_count": 42,
   "metadata": {},
   "outputs": [
    {
     "name": "stdout",
     "output_type": "stream",
     "text": [
      "[5]\n",
      "[3, 5]\n"
     ]
    }
   ],
   "source": [
    "# Dynamic lists in python allow for O(1) additions to the end of the list\n",
    "alist = []\n",
    "alist.append(5)\n",
    "print(alist)\n",
    "\n",
    "# Python Dynamic lists complexity for insertions/deletions NOT at the end can get a little more complicated\n",
    "# depending on the location relative to the end of the list\n",
    "alist.insert(0,3)\n",
    "print(alist)\n",
    "\n",
    "\n",
    "# Overall python dynamic Arrays benefit us since we do not need to pre-allocate memory before working wth a list\n",
    "\n",
    "# Static Array (maybe in a lower level language)\n",
    "# \"I am creating a new list with x amount of available spaces\"\n",
    "# var arr = new Array(10)"
   ]
  },
  {
   "cell_type": "markdown",
   "metadata": {},
   "source": [
    "### Let's take a look at some of the time and space analysis of arrays, dictionaries, and sets"
   ]
  },
  {
   "cell_type": "code",
   "execution_count": 43,
   "metadata": {},
   "outputs": [],
   "source": [
    "alist = ['Coding', 'temple', 'value']"
   ]
  },
  {
   "cell_type": "code",
   "execution_count": 47,
   "metadata": {},
   "outputs": [],
   "source": [
    "# Indexing an Array(list)\n",
    "# Constant Time and Space - O(1)\n",
    "\n",
    "# Searching through an Array(list)\n",
    "# Linear Time - O(n) and Constant Space O(1)\n",
    "\n",
    "# Copying an Array(list)\n",
    "# Linear Time and Space O(n)\n",
    "rev = alist[::-1]\n",
    "\n",
    "# Setting an index in an array\n",
    "# Constant Time and Space - O(1)\n",
    "alist[2] = 'python'\n",
    "\n",
    "\n",
    "# Working with Python lists (Modified Array)\n",
    "alist[0] # O(1) Accessing\n",
    "alist.index('python') # O(n) Searching\n",
    "'python' in alist # O(n) Membership check\n",
    "alist.append('JavaScript') # O(1) Appending to the end / or popping\n",
    "alist.remove('Coding') # O(n) removing\n",
    "# removing a specific index or inserting at a specific index is roughly O(n)\n",
    "alist.insert(1, 'Java')\n",
    "\n",
    "# Dictionaries (Hash Maps)\n",
    "adict['key'] # O(1) Accessing value given a key\n",
    "adict['key'] = 'value' # O(1) inserting or overwriting existing k,v pair\n",
    "del adict['key'] #O(1) \n",
    "if key in adict # O(1) testing membership\n",
    "if key in adict.keys() # O(n) NOT ADVISABLE for membership check... less time efficient because this is a list\n",
    "# Value search is O(n) for adict.values() membership check\n",
    "    \n",
    "# Sets ( Hash Tables )\n",
    "aset.add('value') # O(1) addition\n",
    "aset.remove('value') # O(1) removal\n",
    "if num in aset # O(1) membership check\n",
    "\n"
   ]
  },
  {
   "cell_type": "markdown",
   "metadata": {},
   "source": [
    "### Example of getting the same solution at a different time/space complexity\n",
    "###### Two Sum Problem\n",
    "Create a function that given a list of numbers (that are sorted) and a target number as a sum, return the indices of the two numbers that when added equal the target number.\n",
    "- Example Input: [2,7,11,15], target = 9\n",
    "- Example Output: [0,1]\n",
    "\n",
    "- Example Input: [4,7,8,9, 10, 15, 19, 20], target = 25\n",
    "- Example Output: [4, 5]"
   ]
  },
  {
   "cell_type": "code",
   "execution_count": 59,
   "metadata": {},
   "outputs": [
    {
     "data": {
      "text/plain": [
       "[4, 5]"
      ]
     },
     "execution_count": 59,
     "metadata": {},
     "output_type": "execute_result"
    }
   ],
   "source": [
    "# Step 1: grab onto the first number and add it to every other number in the list\n",
    "# Step 2: if the number and another number in the list ad up to the target, return the location for both of them\n",
    "\n",
    "# Cubic O(n^3)\n",
    "def twoSum(arr, target):\n",
    "    for x in arr:\n",
    "        for y in arr:\n",
    "            if x+y == target:\n",
    "                return [arr.index(x), arr.index(y)]\n",
    "            \n",
    "twoSum([2,7,11,15], 9)\n",
    "\n",
    "# Refactoring to use indices in loop so i don't need to find them within my nested loops\n",
    "#O(n log(n))\n",
    "def twoSum(arr, target):\n",
    "    for i in range(len(arr)):\n",
    "        for j in range(i+1,len(arr)):\n",
    "            if arr[i] + arr[j] == target:\n",
    "                return [i,j]\n",
    "\n",
    "twoSum([2,7,11,15], 9)\n",
    "\n",
    "# Refactor again O(n log(n))\n",
    "def twoSum(arr, target):\n",
    "    for i in range(len(arr)):\n",
    "        left = i\n",
    "        right = i+1\n",
    "        while right < len(arr):\n",
    "            if arr[left] + arr[right] == target:\n",
    "                return [left, right]\n",
    "            else:\n",
    "                right +=1\n",
    "                \n",
    "                \n",
    "twoSum([2,7,11,15], 9)\n",
    "\n",
    "\n",
    "# Linear Solution - O(n)\n",
    "def twoSum(arr, target):\n",
    "    seen = {}\n",
    "    for i in range(len(arr)):\n",
    "        if arr[i] in seen:\n",
    "            return [seen[arr[i]], i]\n",
    "        else:\n",
    "            match = target - arr[i]\n",
    "            seen[match] = i\n",
    "\n",
    "        \n",
    "twoSum([4,7,8,9,10,15,19,20],25)\n"
   ]
  },
  {
   "cell_type": "markdown",
   "metadata": {},
   "source": [
    "## Stacks and Queues\n",
    "\n",
    "** Stacks ** as the name suggests is a data structure that allows for data to follow the Last In First Out priciple(LIFO). Think of a stack of pancakes for example. To get the first pancake you would  start with the top and go down.\n",
    "\n",
    "##### Searching through a stack will be Linear Time O(n) - Constant Space O(1)\n",
    "##### Selecting the last item will be done in Constant Time O(1) - Constant Space O(1)\n",
    "##### Adding to the stack should take Constant Time O(1) - Constant Space O(1)\n",
    "\n",
    "** Queues ** are similar but in this case follow the First In First Out principle(FIFO). Think of this as a line in a black friday sale. The first person camped out for the big screen tv is the first to get it.\n",
    "\n",
    "##### Searching through a queue will be Linear Time O(n) - Constant Space O(1)\n",
    "##### Selecting the first item will be done in Constant Time O(1) - Constant Space O(1)\n",
    "##### Adding to the queue should take Constant Time O(1) - Constant Space O(1)"
   ]
  },
  {
   "cell_type": "code",
   "execution_count": null,
   "metadata": {},
   "outputs": [],
   "source": [
    "# Stacks looking for most recent addition to access quickly\n",
    "# Queues looking for the least recent -- think of an IT help ticket... support wants to help the\n",
    "# person who has been waiting the longest amount of time"
   ]
  },
  {
   "cell_type": "markdown",
   "metadata": {},
   "source": [
    "## Linked List (Data Structure)\n",
    "\n",
    "A linked list is created by using the node class. We create a Node object and create another class to use this node object. We pass the appropriate values thorugh the node object to point the to the next data elements.\n",
    "\n",
    "There are some advantages and disadvantages with this data structure. **Advantages** Linked Lists can save memory because they can be flexibile with memory management which saves memory. **Disadvantages** Finding or adding to the list requires traversing the entire list."
   ]
  },
  {
   "cell_type": "code",
   "execution_count": 96,
   "metadata": {},
   "outputs": [],
   "source": [
    "# Object with a value and a pointer\n",
    "\n",
    "class Node:\n",
    "    def __init__(self,value):\n",
    "        self.value = value\n",
    "        self.next = None\n",
    "\n",
    "class LinkedList:\n",
    "    def __init__(self):\n",
    "        self.head = None\n",
    "    \n",
    "    # this method will append something onto the linked list (end)\n",
    "    def append(self, new_value):\n",
    "        # Create a new Node instance using my new value\n",
    "        new_node = Node(new_value)\n",
    "        \n",
    "        # Check if LL is empty... if so.. place appended item at the head\n",
    "        if self.head == None:\n",
    "            self.head = new_node\n",
    "        \n",
    "        # BUT if the list is not empty - traverse until the end\n",
    "        # and add the new value to the end of the list\n",
    "        else:\n",
    "            last = self.head\n",
    "            while last.next:\n",
    "                last = last.next\n",
    "            # Change the final list item to be pointing to this appended item\n",
    "            last.next = new_node\n",
    "    \n",
    "    def pushOn(self,new_value):\n",
    "        new_node = Node(new_value)\n",
    "        new_node.next = self.head\n",
    "        self.head = new_node\n",
    "    \n",
    "    def insertAfter(self, prev_node, new_value):\n",
    "        #Check if that previous node exists\n",
    "        if prev_node is None:\n",
    "            print('the given prev_node does not exist!')\n",
    "            return\n",
    "        new_node = Node(new_value)\n",
    "        \n",
    "        # Update the new_node to point where the prev_node used to point\n",
    "        new_node.next = prev_node.next\n",
    "        \n",
    "        # Update the previous node to point at newly inserted node\n",
    "        prev_node.next = new_node\n",
    "        \n",
    "    def traverse(self):\n",
    "        temp = self.head\n",
    "        # while temp is not None -- keep looking through these links until you reach a none value\n",
    "        while temp:\n",
    "            print(temp.value)\n",
    "            temp = temp.next\n",
    "        \n",
    "weekdays = LinkedList()"
   ]
  },
  {
   "cell_type": "code",
   "execution_count": 97,
   "metadata": {},
   "outputs": [
    {
     "name": "stdout",
     "output_type": "stream",
     "text": [
      "Mon\n",
      "Tue\n",
      "Tuesday.5\n",
      "Wed\n"
     ]
    }
   ],
   "source": [
    "weekdays.pushOn('Mon')\n",
    "weekdays.append('Tue')\n",
    "weekdays.append('Wed')\n",
    "weekdays.insertAfter(weekdays.head.next, 'Tuesday.5')\n",
    "weekdays.traverse()\n"
   ]
  },
  {
   "cell_type": "code",
   "execution_count": 98,
   "metadata": {},
   "outputs": [
    {
     "name": "stdout",
     "output_type": "stream",
     "text": [
      "Mon\n",
      "monday\n",
      "Tue\n",
      "Tuesday.5\n",
      "Wed\n"
     ]
    }
   ],
   "source": [
    "weekdays.insertAfter(weekdays.head, 'monday')\n",
    "weekdays.traverse()"
   ]
  },
  {
   "cell_type": "code",
   "execution_count": 99,
   "metadata": {},
   "outputs": [
    {
     "name": "stdout",
     "output_type": "stream",
     "text": [
      "Help on class list in module builtins:\n",
      "\n",
      "class list(object)\n",
      " |  list(iterable=(), /)\n",
      " |  \n",
      " |  Built-in mutable sequence.\n",
      " |  \n",
      " |  If no argument is given, the constructor creates a new empty list.\n",
      " |  The argument must be an iterable if specified.\n",
      " |  \n",
      " |  Methods defined here:\n",
      " |  \n",
      " |  __add__(self, value, /)\n",
      " |      Return self+value.\n",
      " |  \n",
      " |  __contains__(self, key, /)\n",
      " |      Return key in self.\n",
      " |  \n",
      " |  __delitem__(self, key, /)\n",
      " |      Delete self[key].\n",
      " |  \n",
      " |  __eq__(self, value, /)\n",
      " |      Return self==value.\n",
      " |  \n",
      " |  __ge__(self, value, /)\n",
      " |      Return self>=value.\n",
      " |  \n",
      " |  __getattribute__(self, name, /)\n",
      " |      Return getattr(self, name).\n",
      " |  \n",
      " |  __getitem__(...)\n",
      " |      x.__getitem__(y) <==> x[y]\n",
      " |  \n",
      " |  __gt__(self, value, /)\n",
      " |      Return self>value.\n",
      " |  \n",
      " |  __iadd__(self, value, /)\n",
      " |      Implement self+=value.\n",
      " |  \n",
      " |  __imul__(self, value, /)\n",
      " |      Implement self*=value.\n",
      " |  \n",
      " |  __init__(self, /, *args, **kwargs)\n",
      " |      Initialize self.  See help(type(self)) for accurate signature.\n",
      " |  \n",
      " |  __iter__(self, /)\n",
      " |      Implement iter(self).\n",
      " |  \n",
      " |  __le__(self, value, /)\n",
      " |      Return self<=value.\n",
      " |  \n",
      " |  __len__(self, /)\n",
      " |      Return len(self).\n",
      " |  \n",
      " |  __lt__(self, value, /)\n",
      " |      Return self<value.\n",
      " |  \n",
      " |  __mul__(self, value, /)\n",
      " |      Return self*value.\n",
      " |  \n",
      " |  __ne__(self, value, /)\n",
      " |      Return self!=value.\n",
      " |  \n",
      " |  __repr__(self, /)\n",
      " |      Return repr(self).\n",
      " |  \n",
      " |  __reversed__(self, /)\n",
      " |      Return a reverse iterator over the list.\n",
      " |  \n",
      " |  __rmul__(self, value, /)\n",
      " |      Return value*self.\n",
      " |  \n",
      " |  __setitem__(self, key, value, /)\n",
      " |      Set self[key] to value.\n",
      " |  \n",
      " |  __sizeof__(self, /)\n",
      " |      Return the size of the list in memory, in bytes.\n",
      " |  \n",
      " |  append(self, object, /)\n",
      " |      Append object to the end of the list.\n",
      " |  \n",
      " |  clear(self, /)\n",
      " |      Remove all items from list.\n",
      " |  \n",
      " |  copy(self, /)\n",
      " |      Return a shallow copy of the list.\n",
      " |  \n",
      " |  count(self, value, /)\n",
      " |      Return number of occurrences of value.\n",
      " |  \n",
      " |  extend(self, iterable, /)\n",
      " |      Extend list by appending elements from the iterable.\n",
      " |  \n",
      " |  index(self, value, start=0, stop=9223372036854775807, /)\n",
      " |      Return first index of value.\n",
      " |      \n",
      " |      Raises ValueError if the value is not present.\n",
      " |  \n",
      " |  insert(self, index, object, /)\n",
      " |      Insert object before index.\n",
      " |  \n",
      " |  pop(self, index=-1, /)\n",
      " |      Remove and return item at index (default last).\n",
      " |      \n",
      " |      Raises IndexError if list is empty or index is out of range.\n",
      " |  \n",
      " |  remove(self, value, /)\n",
      " |      Remove first occurrence of value.\n",
      " |      \n",
      " |      Raises ValueError if the value is not present.\n",
      " |  \n",
      " |  reverse(self, /)\n",
      " |      Reverse *IN PLACE*.\n",
      " |  \n",
      " |  sort(self, /, *, key=None, reverse=False)\n",
      " |      Stable sort *IN PLACE*.\n",
      " |  \n",
      " |  ----------------------------------------------------------------------\n",
      " |  Static methods defined here:\n",
      " |  \n",
      " |  __new__(*args, **kwargs) from builtins.type\n",
      " |      Create and return a new object.  See help(type) for accurate signature.\n",
      " |  \n",
      " |  ----------------------------------------------------------------------\n",
      " |  Data and other attributes defined here:\n",
      " |  \n",
      " |  __hash__ = None\n",
      "\n"
     ]
    }
   ],
   "source": [
    "help(list)\n"
   ]
  },
  {
   "cell_type": "code",
   "execution_count": null,
   "metadata": {},
   "outputs": [],
   "source": []
  },
  {
   "cell_type": "code",
   "execution_count": 101,
   "metadata": {},
   "outputs": [
    {
     "data": {
      "text/plain": [
       "['Nate']"
      ]
     },
     "execution_count": 101,
     "metadata": {},
     "output_type": "execute_result"
    }
   ],
   "source": [
    "names = []\n",
    "names.append('Nate')\n",
    "names"
   ]
  },
  {
   "cell_type": "code",
   "execution_count": null,
   "metadata": {},
   "outputs": [],
   "source": [
    "# Node(10, Node(80, Node(100, None)))"
   ]
  },
  {
   "cell_type": "code",
   "execution_count": null,
   "metadata": {},
   "outputs": [],
   "source": []
  }
 ],
 "metadata": {
  "kernelspec": {
   "display_name": "Python 3",
   "language": "python",
   "name": "python3"
  },
  "language_info": {
   "codemirror_mode": {
    "name": "ipython",
    "version": 3
   },
   "file_extension": ".py",
   "mimetype": "text/x-python",
   "name": "python",
   "nbconvert_exporter": "python",
   "pygments_lexer": "ipython3",
   "version": "3.7.6"
  }
 },
 "nbformat": 4,
 "nbformat_minor": 2
}
